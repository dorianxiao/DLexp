{
  "nbformat": 4,
  "nbformat_minor": 0,
  "metadata": {
    "colab": {
      "name": "cat_dog.ipynb",
      "version": "0.3.2",
      "provenance": [],
      "private_outputs": true,
      "collapsed_sections": [],
      "include_colab_link": true
    },
    "kernelspec": {
      "name": "python3",
      "display_name": "Python 3"
    },
    "accelerator": "GPU"
  },
  "cells": [
    {
      "cell_type": "markdown",
      "metadata": {
        "id": "view-in-github",
        "colab_type": "text"
      },
      "source": [
        "<a href=\"https://colab.research.google.com/github/dorianxiao/DLexp/blob/master/Exp5%3A%E7%8C%AB%E7%8B%97%E5%88%86%E7%B1%BB%20/cat_dog.ipynb\" target=\"_parent\"><img src=\"https://colab.research.google.com/assets/colab-badge.svg\" alt=\"Open In Colab\"/></a>"
      ]
    },
    {
      "cell_type": "code",
      "metadata": {
        "id": "NYIKKrgZ4J2t",
        "colab_type": "code",
        "colab": {}
      },
      "source": [
        "# 挂载到Google Drive\n",
        "\n",
        "from google.colab import drive\n",
        "drive.mount('/content/gdrive')"
      ],
      "execution_count": 0,
      "outputs": []
    },
    {
      "cell_type": "code",
      "metadata": {
        "id": "1Lg1nCNQ4O9A",
        "colab_type": "code",
        "colab": {}
      },
      "source": [
        "import os\n",
        "\n",
        "os.chdir(r'/content/gdrive/My Drive/mylab/Exp5/models/research/slim')\n",
        "print(os.getcwd())"
      ],
      "execution_count": 0,
      "outputs": []
    },
    {
      "cell_type": "code",
      "metadata": {
        "id": "ZyLJLK4a4SQU",
        "colab_type": "code",
        "colab": {}
      },
      "source": [
        "!ls -l"
      ],
      "execution_count": 0,
      "outputs": []
    },
    {
      "cell_type": "code",
      "metadata": {
        "id": "6f_Ppoe54XgV",
        "colab_type": "code",
        "colab": {}
      },
      "source": [
        "!python  train_image_classifier.py \\\n",
        "  --train_dir=dogsVScats/train_dir \\\n",
        "  --dataset_name=dogsVScats \\\n",
        "  --dataset_split_name=train \\\n",
        "  --dataset_dir=dogsVScats/data \\\n",
        "  --model_name=inception_v3 \\\n",
        "  --checkpoint_path=dogsVScats/pretrained/inception_v3.ckpt \\\n",
        "  --checkpoint_exclude_scopes=InceptionV3/Logits,InceptionV3/AuxLogits \\\n",
        "  --trainable_scopes=InceptionV3/Logits,InceptionV3/AuxLogits \\\n",
        "  --max_number_of_steps=10000 \\\n",
        "  --batch_size=32 \\\n",
        "  --learning_rate=0.001 \\\n",
        "  --learning_rate_decay_type=fixed \\\n",
        "  --save_interval_secs=600 \\\n",
        "  --save_summaries_secs=6 \\\n",
        "  --log_every_n_steps=20 \\\n",
        "  --optimizer=rmsprop \\\n",
        "  --weight_decay=0.00004"
      ],
      "execution_count": 0,
      "outputs": []
    },
    {
      "cell_type": "code",
      "metadata": {
        "id": "KYV9UxVy6YiR",
        "colab_type": "code",
        "colab": {}
      },
      "source": [
        "!python eval_image_classifier.py \\\n",
        "  --checkpoint_path=dogsVScats/train_dir \\\n",
        "  --eval_dir=dogsVScats/eval_dir \\\n",
        "  --dataset_name=dogsVScats \\\n",
        "  --dataset_split_name=validation \\\n",
        "  --dataset_dir=dogsVScats/data \\\n",
        "  --model_name=inception_v3"
      ],
      "execution_count": 0,
      "outputs": []
    }
  ]
}