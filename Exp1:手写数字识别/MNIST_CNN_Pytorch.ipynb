{
  "nbformat": 4,
  "nbformat_minor": 0,
  "metadata": {
    "colab": {
      "name": "MNIST.ipynb",
      "version": "0.3.2",
      "provenance": [],
      "collapsed_sections": [],
      "include_colab_link": true
    },
    "kernelspec": {
      "name": "python3",
      "display_name": "Python 3"
    }
  },
  "cells": [
    {
      "cell_type": "markdown",
      "metadata": {
        "id": "view-in-github",
        "colab_type": "text"
      },
      "source": [
        "<a href=\"https://colab.research.google.com/github/dorianxiao/DLexp/blob/master/Exp1%3A%E6%89%8B%E5%86%99%E6%95%B0%E5%AD%97%E8%AF%86%E5%88%AB/MNIST_CNN_Pytorch.ipynb\" target=\"_parent\"><img src=\"https://colab.research.google.com/assets/colab-badge.svg\" alt=\"Open In Colab\"/></a>"
      ]
    },
    {
      "cell_type": "code",
      "metadata": {
        "id": "QhzSE2jedKlU",
        "colab_type": "code",
        "colab": {}
      },
      "source": [
        "# 导入pytorch\n",
        "\n",
        "import torch\n",
        "from torch.autograd import Variable\n",
        "import numpy as np\n",
        "import torch.nn as nn\n",
        "from torchvision import datasets,transforms"
      ],
      "execution_count": 0,
      "outputs": []
    },
    {
      "cell_type": "code",
      "metadata": {
        "id": "bttigUj0fSZi",
        "colab_type": "code",
        "outputId": "597c35e5-2584-493f-8819-819869abc6f9",
        "colab": {
          "base_uri": "https://localhost:8080/",
          "height": 34
        }
      },
      "source": [
        "# 设置参数\n",
        "\n",
        "n_epochs = 3\n",
        "batch_size_train = 64\n",
        "batch_size_test = 1000\n",
        "learning_rate = 0.01\n",
        "momentum = 0.5\n",
        "log_interval = 10\n",
        "\n",
        "random_seed = 1\n",
        "torch.backends.cudnn.enabled = False\n",
        "torch.manual_seed(random_seed)"
      ],
      "execution_count": 2,
      "outputs": [
        {
          "output_type": "execute_result",
          "data": {
            "text/plain": [
              "<torch._C.Generator at 0x7ff13afe3690>"
            ]
          },
          "metadata": {
            "tags": []
          },
          "execution_count": 2
        }
      ]
    },
    {
      "cell_type": "code",
      "metadata": {
        "id": "3fpTYIILhoAj",
        "colab_type": "code",
        "outputId": "ad155cae-c1a6-4180-a268-9c439da9cac7",
        "colab": {
          "base_uri": "https://localhost:8080/",
          "height": 255
        }
      },
      "source": [
        "# 加载MNIST数据\n",
        "\n",
        "train_loader = torch.utils.data.DataLoader(\n",
        "    datasets.MNIST('/files/', train=True, download=True,\n",
        "                   transform = transforms.Compose([\n",
        "                       transforms.ToTensor(),\n",
        "                       transforms.Normalize((0.1307,), (0.3081,))])),\n",
        "    batch_size=batch_size_train, shuffle=True)\n",
        "\n",
        "test_loader = torch.utils.data.DataLoader(\n",
        "    datasets.MNIST('/files/', train=False, download=True,\n",
        "                   transform = transforms.Compose([\n",
        "                       transforms.ToTensor(),\n",
        "                       transforms.Normalize((0.1307,), (0.3081,))])),\n",
        "    batch_size=batch_size_test, shuffle=True)"
      ],
      "execution_count": 3,
      "outputs": [
        {
          "output_type": "stream",
          "text": [
            "\r0it [00:00, ?it/s]"
          ],
          "name": "stderr"
        },
        {
          "output_type": "stream",
          "text": [
            "Downloading http://yann.lecun.com/exdb/mnist/train-images-idx3-ubyte.gz to /files/MNIST/raw/train-images-idx3-ubyte.gz\n"
          ],
          "name": "stdout"
        },
        {
          "output_type": "stream",
          "text": [
            "9920512it [00:01, 8139842.00it/s]                             \n"
          ],
          "name": "stderr"
        },
        {
          "output_type": "stream",
          "text": [
            "Extracting /files/MNIST/raw/train-images-idx3-ubyte.gz\n"
          ],
          "name": "stdout"
        },
        {
          "output_type": "stream",
          "text": [
            "32768it [00:00, 446899.27it/s]\n",
            "  1%|          | 16384/1648877 [00:00<00:11, 144527.14it/s]"
          ],
          "name": "stderr"
        },
        {
          "output_type": "stream",
          "text": [
            "Downloading http://yann.lecun.com/exdb/mnist/train-labels-idx1-ubyte.gz to /files/MNIST/raw/train-labels-idx1-ubyte.gz\n",
            "Extracting /files/MNIST/raw/train-labels-idx1-ubyte.gz\n",
            "Downloading http://yann.lecun.com/exdb/mnist/t10k-images-idx3-ubyte.gz to /files/MNIST/raw/t10k-images-idx3-ubyte.gz\n"
          ],
          "name": "stdout"
        },
        {
          "output_type": "stream",
          "text": [
            "1654784it [00:00, 6866726.24it/s]                           \n",
            "8192it [00:00, 183825.47it/s]\n"
          ],
          "name": "stderr"
        },
        {
          "output_type": "stream",
          "text": [
            "Extracting /files/MNIST/raw/t10k-images-idx3-ubyte.gz\n",
            "Downloading http://yann.lecun.com/exdb/mnist/t10k-labels-idx1-ubyte.gz to /files/MNIST/raw/t10k-labels-idx1-ubyte.gz\n",
            "Extracting /files/MNIST/raw/t10k-labels-idx1-ubyte.gz\n",
            "Processing...\n",
            "Done!\n"
          ],
          "name": "stdout"
        }
      ]
    },
    {
      "cell_type": "code",
      "metadata": {
        "id": "qgF8MGW4ip1J",
        "colab_type": "code",
        "outputId": "728a2f61-8768-4e4e-905f-3b3cc767b9a2",
        "colab": {
          "base_uri": "https://localhost:8080/",
          "height": 34
        }
      },
      "source": [
        "# 以测试数据为例\n",
        "\n",
        "examples = enumerate(test_loader)\n",
        "batch_idx, (example_data, example_targets) = next(examples)\n",
        "\n",
        "# 查看一个batch的测试数据维度\n",
        "example_data.shape"
      ],
      "execution_count": 4,
      "outputs": [
        {
          "output_type": "execute_result",
          "data": {
            "text/plain": [
              "torch.Size([1000, 1, 28, 28])"
            ]
          },
          "metadata": {
            "tags": []
          },
          "execution_count": 4
        }
      ]
    },
    {
      "cell_type": "code",
      "metadata": {
        "id": "mr9VXYghm18x",
        "colab_type": "code",
        "outputId": "74cb1916-551d-4ade-f325-9ba4662351ec",
        "colab": {
          "base_uri": "https://localhost:8080/",
          "height": 551
        }
      },
      "source": [
        "# \n",
        "\n",
        "import matplotlib.pyplot as plt\n",
        "\n",
        "fig = plt.figure()\n",
        "for i in range(6):\n",
        "  plt.subplot(2,3,i+1)\n",
        "  plt.tight_layout()\n",
        "  plt.imshow(example_data[i][0], cmap='gray', interpolation='none')\n",
        "  plt.title(\"True value: {}\".format(example_targets[i]))\n",
        "  plt.xticks([])\n",
        "  plt.yticks([])\n",
        "fig"
      ],
      "execution_count": 5,
      "outputs": [
        {
          "output_type": "execute_result",
          "data": {
            "image/png": "[encoded data removed]",
            "text/plain": [
              "<Figure size 432x288 with 6 Axes>"
            ]
          },
          "metadata": {
            "tags": []
          },
          "execution_count": 5
        },
        {
          "output_type": "display_data",
          "data": {
            "image/png": "[encoded data removed]",
            "text/plain": [
              "<Figure size 432x288 with 6 Axes>"
            ]
          },
          "metadata": {
            "tags": []
          }
        }
      ]
    },
    {
      "cell_type": "code",
      "metadata": {
        "id": "Nw6NHbJZn2_N",
        "colab_type": "code",
        "colab": {}
      },
      "source": [
        "# 构建卷积网络\n",
        "# 导入相关库\n",
        "\n",
        "import torch.nn as nn\n",
        "import torch.nn.functional as F\n",
        "import torch.optim as optim"
      ],
      "execution_count": 0,
      "outputs": []
    },
    {
      "cell_type": "code",
      "metadata": {
        "id": "vz8ZfrVlp262",
        "colab_type": "code",
        "colab": {}
      },
      "source": [
        "# 构造网络\n",
        "\n",
        "class Net(nn.Module):\n",
        "\n",
        "    def __init__(self):\n",
        "        super(Net, self).__init__()\n",
        "        # 28*28*1 输入，10个5*5卷积核\n",
        "        self.conv1 = nn.Conv2d(1, 10, 5)\n",
        "        self.conv2 = nn.Conv2d(10, 20, 5)\n",
        "        self.conv2_drop = nn.Dropout2d()\n",
        "        # 全连接层\n",
        "        self.fc1 = nn.Linear(320, 50)\n",
        "        self.fc2 = nn.Linear(50, 10)\n",
        "\n",
        "    def forward(self, x):\n",
        "        # 最大池化，采样窗口2*2，激活函数用Relu\n",
        "        x = F.relu(F.max_pool2d(self.conv1(x), 2))\n",
        "        x = F.relu(F.max_pool2d(self.conv2_drop(self.conv2(x)), 2))\n",
        "        x = x.view(-1, 320)\n",
        "        x = F.relu(self.fc1(x))\n",
        "        x = F.dropout(x, training=self.training)\n",
        "        x = self.fc2(x)\n",
        "        return F.log_softmax(x)"
      ],
      "execution_count": 0,
      "outputs": []
    },
    {
      "cell_type": "code",
      "metadata": {
        "id": "pKQdmfe12rTQ",
        "colab_type": "code",
        "outputId": "bd9a1dec-fc40-47ba-d622-e4ea60774c3d",
        "colab": {
          "base_uri": "https://localhost:8080/",
          "height": 136
        }
      },
      "source": [
        "# 初始化卷积网络\n",
        "\n",
        "network = Net()\n",
        "print(network)\n",
        "\n",
        "optimizer = optim.SGD(network.parameters(), lr=learning_rate,momentum=momentum)"
      ],
      "execution_count": 8,
      "outputs": [
        {
          "output_type": "stream",
          "text": [
            "Net(\n",
            "  (conv1): Conv2d(1, 10, kernel_size=(5, 5), stride=(1, 1))\n",
            "  (conv2): Conv2d(10, 20, kernel_size=(5, 5), stride=(1, 1))\n",
            "  (conv2_drop): Dropout2d(p=0.5)\n",
            "  (fc1): Linear(in_features=320, out_features=50, bias=True)\n",
            "  (fc2): Linear(in_features=50, out_features=10, bias=True)\n",
            ")\n"
          ],
          "name": "stdout"
        }
      ]
    },
    {
      "cell_type": "code",
      "metadata": {
        "id": "j90qeVfa3a_m",
        "colab_type": "code",
        "colab": {}
      },
      "source": [
        "# 构造列表存储loss\n",
        "\n",
        "train_losses = []\n",
        "train_counter = []\n",
        "\n",
        "test_losses = []\n",
        "test_counter = [i*len(train_loader.dataset) for i in range(n_epochs + 1)]"
      ],
      "execution_count": 0,
      "outputs": []
    },
    {
      "cell_type": "code",
      "metadata": {
        "id": "E0ab1wPO6Frp",
        "colab_type": "code",
        "colab": {}
      },
      "source": [
        "# 定义训练函数\n",
        "\n",
        "def train(epoch):\n",
        "  network.train()\n",
        "  for batch_idx, (data, target) in enumerate(train_loader):\n",
        "    optimizer.zero_grad()\n",
        "    output = network(data)\n",
        "    loss = F.nll_loss(output, target)\n",
        "    loss.backward()\n",
        "    optimizer.step()\n",
        "    if batch_idx % log_interval == 0:\n",
        "      print('Train Epoch: {} [{}/{} ({:.0f}%)]\\tLoss: {:.6f}'.format(\n",
        "        epoch, batch_idx * len(data), len(train_loader.dataset),\n",
        "        100. * batch_idx / len(train_loader), loss.item()))\n",
        "      train_losses.append(loss.item())\n",
        "      train_counter.append(\n",
        "        (batch_idx*64) + ((epoch-1)*len(train_loader.dataset)))\n",
        "      torch.save(network.state_dict(), '/files/model.pth')\n",
        "      torch.save(optimizer.state_dict(), '/files/optimizer.pth')"
      ],
      "execution_count": 0,
      "outputs": []
    },
    {
      "cell_type": "code",
      "metadata": {
        "id": "qwwPY-p97VUn",
        "colab_type": "code",
        "outputId": "a812b960-6a1a-4402-fb77-0aa3600288dd",
        "colab": {
          "base_uri": "https://localhost:8080/",
          "height": 4828
        }
      },
      "source": [
        "# 开始训练\n",
        "\n",
        "for epoch in range(1, n_epochs + 1):\n",
        "  train(epoch)"
      ],
      "execution_count": 11,
      "outputs": [
        {
          "output_type": "stream",
          "text": [
            "/usr/local/lib/python3.6/dist-packages/ipykernel_launcher.py:22: UserWarning: Implicit dimension choice for log_softmax has been deprecated. Change the call to include dim=X as an argument.\n"
          ],
          "name": "stderr"
        },
        {
          "output_type": "stream",
          "text": [
            "Train Epoch: 1 [0/60000 (0%)]\tLoss: 2.327588\n",
            "Train Epoch: 1 [640/60000 (1%)]\tLoss: 2.278783\n",
            "Train Epoch: 1 [1280/60000 (2%)]\tLoss: 2.247715\n",
            "Train Epoch: 1 [1920/60000 (3%)]\tLoss: 2.247502\n",
            "Train Epoch: 1 [2560/60000 (4%)]\tLoss: 2.235826\n",
            "Train Epoch: 1 [3200/60000 (5%)]\tLoss: 2.215992\n",
            "Train Epoch: 1 [3840/60000 (6%)]\tLoss: 2.126807\n",
            "Train Epoch: 1 [4480/60000 (7%)]\tLoss: 2.023547\n",
            "Train Epoch: 1 [5120/60000 (9%)]\tLoss: 2.004896\n",
            "Train Epoch: 1 [5760/60000 (10%)]\tLoss: 1.928278\n",
            "Train Epoch: 1 [6400/60000 (11%)]\tLoss: 1.864212\n",
            "Train Epoch: 1 [7040/60000 (12%)]\tLoss: 1.769398\n",
            "Train Epoch: 1 [7680/60000 (13%)]\tLoss: 1.703963\n",
            "Train Epoch: 1 [8320/60000 (14%)]\tLoss: 1.739120\n",
            "Train Epoch: 1 [8960/60000 (15%)]\tLoss: 1.529473\n",
            "Train Epoch: 1 [9600/60000 (16%)]\tLoss: 1.352610\n",
            "Train Epoch: 1 [10240/60000 (17%)]\tLoss: 1.387650\n",
            "Train Epoch: 1 [10880/60000 (18%)]\tLoss: 1.407291\n",
            "Train Epoch: 1 [11520/60000 (19%)]\tLoss: 1.032624\n",
            "Train Epoch: 1 [12160/60000 (20%)]\tLoss: 1.426945\n",
            "Train Epoch: 1 [12800/60000 (21%)]\tLoss: 1.154852\n",
            "Train Epoch: 1 [13440/60000 (22%)]\tLoss: 1.331073\n",
            "Train Epoch: 1 [14080/60000 (23%)]\tLoss: 1.037584\n",
            "Train Epoch: 1 [14720/60000 (25%)]\tLoss: 1.231651\n",
            "Train Epoch: 1 [15360/60000 (26%)]\tLoss: 1.019976\n",
            "Train Epoch: 1 [16000/60000 (27%)]\tLoss: 0.960377\n",
            "Train Epoch: 1 [16640/60000 (28%)]\tLoss: 0.974682\n",
            "Train Epoch: 1 [17280/60000 (29%)]\tLoss: 0.953164\n",
            "Train Epoch: 1 [17920/60000 (30%)]\tLoss: 0.937115\n",
            "Train Epoch: 1 [18560/60000 (31%)]\tLoss: 0.943147\n",
            "Train Epoch: 1 [19200/60000 (32%)]\tLoss: 0.822090\n",
            "Train Epoch: 1 [19840/60000 (33%)]\tLoss: 0.741490\n",
            "Train Epoch: 1 [20480/60000 (34%)]\tLoss: 1.010401\n",
            "Train Epoch: 1 [21120/60000 (35%)]\tLoss: 0.943527\n",
            "Train Epoch: 1 [21760/60000 (36%)]\tLoss: 0.814287\n",
            "Train Epoch: 1 [22400/60000 (37%)]\tLoss: 0.755752\n",
            "Train Epoch: 1 [23040/60000 (38%)]\tLoss: 0.620839\n",
            "Train Epoch: 1 [23680/60000 (39%)]\tLoss: 0.826357\n",
            "Train Epoch: 1 [24320/60000 (41%)]\tLoss: 0.936684\n",
            "Train Epoch: 1 [24960/60000 (42%)]\tLoss: 0.631020\n",
            "Train Epoch: 1 [25600/60000 (43%)]\tLoss: 1.061729\n",
            "Train Epoch: 1 [26240/60000 (44%)]\tLoss: 0.821458\n",
            "Train Epoch: 1 [26880/60000 (45%)]\tLoss: 0.804643\n",
            "Train Epoch: 1 [27520/60000 (46%)]\tLoss: 0.640854\n",
            "Train Epoch: 1 [28160/60000 (47%)]\tLoss: 0.651565\n",
            "Train Epoch: 1 [28800/60000 (48%)]\tLoss: 0.699004\n",
            "Train Epoch: 1 [29440/60000 (49%)]\tLoss: 0.662972\n",
            "Train Epoch: 1 [30080/60000 (50%)]\tLoss: 0.635239\n",
            "Train Epoch: 1 [30720/60000 (51%)]\tLoss: 1.009361\n",
            "Train Epoch: 1 [31360/60000 (52%)]\tLoss: 0.731531\n",
            "Train Epoch: 1 [32000/60000 (53%)]\tLoss: 0.694268\n",
            "Train Epoch: 1 [32640/60000 (54%)]\tLoss: 0.781558\n",
            "Train Epoch: 1 [33280/60000 (55%)]\tLoss: 0.646695\n",
            "Train Epoch: 1 [33920/60000 (57%)]\tLoss: 0.682957\n",
            "Train Epoch: 1 [34560/60000 (58%)]\tLoss: 0.664480\n",
            "Train Epoch: 1 [35200/60000 (59%)]\tLoss: 0.611249\n",
            "Train Epoch: 1 [35840/60000 (60%)]\tLoss: 0.533989\n",
            "Train Epoch: 1 [36480/60000 (61%)]\tLoss: 0.717318\n",
            "Train Epoch: 1 [37120/60000 (62%)]\tLoss: 0.748282\n",
            "Train Epoch: 1 [37760/60000 (63%)]\tLoss: 0.651378\n",
            "Train Epoch: 1 [38400/60000 (64%)]\tLoss: 0.639807\n",
            "Train Epoch: 1 [39040/60000 (65%)]\tLoss: 0.465102\n",
            "Train Epoch: 1 [39680/60000 (66%)]\tLoss: 0.646321\n",
            "Train Epoch: 1 [40320/60000 (67%)]\tLoss: 0.471626\n",
            "Train Epoch: 1 [40960/60000 (68%)]\tLoss: 0.473221\n",
            "Train Epoch: 1 [41600/60000 (69%)]\tLoss: 0.616680\n",
            "Train Epoch: 1 [42240/60000 (70%)]\tLoss: 0.477890\n",
            "Train Epoch: 1 [42880/60000 (71%)]\tLoss: 0.929234\n",
            "Train Epoch: 1 [43520/60000 (72%)]\tLoss: 0.545154\n",
            "Train Epoch: 1 [44160/60000 (74%)]\tLoss: 0.488559\n",
            "Train Epoch: 1 [44800/60000 (75%)]\tLoss: 0.522468\n",
            "Train Epoch: 1 [45440/60000 (76%)]\tLoss: 0.685476\n",
            "Train Epoch: 1 [46080/60000 (77%)]\tLoss: 0.454959\n",
            "Train Epoch: 1 [46720/60000 (78%)]\tLoss: 0.568880\n",
            "Train Epoch: 1 [47360/60000 (79%)]\tLoss: 0.713055\n",
            "Train Epoch: 1 [48000/60000 (80%)]\tLoss: 0.566949\n",
            "Train Epoch: 1 [48640/60000 (81%)]\tLoss: 0.420676\n",
            "Train Epoch: 1 [49280/60000 (82%)]\tLoss: 0.485690\n",
            "Train Epoch: 1 [49920/60000 (83%)]\tLoss: 0.751394\n",
            "Train Epoch: 1 [50560/60000 (84%)]\tLoss: 0.429764\n",
            "Train Epoch: 1 [51200/60000 (85%)]\tLoss: 0.452067\n",
            "Train Epoch: 1 [51840/60000 (86%)]\tLoss: 0.419635\n",
            "Train Epoch: 1 [52480/60000 (87%)]\tLoss: 0.655349\n",
            "Train Epoch: 1 [53120/60000 (88%)]\tLoss: 0.349982\n",
            "Train Epoch: 1 [53760/60000 (90%)]\tLoss: 0.667637\n",
            "Train Epoch: 1 [54400/60000 (91%)]\tLoss: 0.671353\n",
            "Train Epoch: 1 [55040/60000 (92%)]\tLoss: 0.390642\n",
            "Train Epoch: 1 [55680/60000 (93%)]\tLoss: 0.439125\n",
            "Train Epoch: 1 [56320/60000 (94%)]\tLoss: 0.594807\n",
            "Train Epoch: 1 [56960/60000 (95%)]\tLoss: 0.494194\n",
            "Train Epoch: 1 [57600/60000 (96%)]\tLoss: 0.402477\n",
            "Train Epoch: 1 [58240/60000 (97%)]\tLoss: 0.465868\n",
            "Train Epoch: 1 [58880/60000 (98%)]\tLoss: 0.517712\n",
            "Train Epoch: 1 [59520/60000 (99%)]\tLoss: 0.436859\n",
            "Train Epoch: 2 [0/60000 (0%)]\tLoss: 0.402902\n",
            "Train Epoch: 2 [640/60000 (1%)]\tLoss: 0.518075\n",
            "Train Epoch: 2 [1280/60000 (2%)]\tLoss: 0.524350\n",
            "Train Epoch: 2 [1920/60000 (3%)]\tLoss: 0.684812\n",
            "Train Epoch: 2 [2560/60000 (4%)]\tLoss: 0.439459\n",
            "Train Epoch: 2 [3200/60000 (5%)]\tLoss: 0.546876\n",
            "Train Epoch: 2 [3840/60000 (6%)]\tLoss: 0.387693\n",
            "Train Epoch: 2 [4480/60000 (7%)]\tLoss: 0.484729\n",
            "Train Epoch: 2 [5120/60000 (9%)]\tLoss: 0.374943\n",
            "Train Epoch: 2 [5760/60000 (10%)]\tLoss: 0.477516\n",
            "Train Epoch: 2 [6400/60000 (11%)]\tLoss: 0.482166\n",
            "Train Epoch: 2 [7040/60000 (12%)]\tLoss: 0.554994\n",
            "Train Epoch: 2 [7680/60000 (13%)]\tLoss: 0.727800\n",
            "Train Epoch: 2 [8320/60000 (14%)]\tLoss: 0.346940\n",
            "Train Epoch: 2 [8960/60000 (15%)]\tLoss: 0.322623\n",
            "Train Epoch: 2 [9600/60000 (16%)]\tLoss: 0.468415\n",
            "Train Epoch: 2 [10240/60000 (17%)]\tLoss: 0.561376\n",
            "Train Epoch: 2 [10880/60000 (18%)]\tLoss: 0.410110\n",
            "Train Epoch: 2 [11520/60000 (19%)]\tLoss: 0.417123\n",
            "Train Epoch: 2 [12160/60000 (20%)]\tLoss: 0.407735\n",
            "Train Epoch: 2 [12800/60000 (21%)]\tLoss: 0.604089\n",
            "Train Epoch: 2 [13440/60000 (22%)]\tLoss: 0.468871\n",
            "Train Epoch: 2 [14080/60000 (23%)]\tLoss: 0.522766\n",
            "Train Epoch: 2 [14720/60000 (25%)]\tLoss: 0.513847\n",
            "Train Epoch: 2 [15360/60000 (26%)]\tLoss: 0.645917\n",
            "Train Epoch: 2 [16000/60000 (27%)]\tLoss: 0.514480\n",
            "Train Epoch: 2 [16640/60000 (28%)]\tLoss: 0.554712\n",
            "Train Epoch: 2 [17280/60000 (29%)]\tLoss: 0.366461\n",
            "Train Epoch: 2 [17920/60000 (30%)]\tLoss: 0.387701\n",
            "Train Epoch: 2 [18560/60000 (31%)]\tLoss: 0.413788\n",
            "Train Epoch: 2 [19200/60000 (32%)]\tLoss: 0.580682\n",
            "Train Epoch: 2 [19840/60000 (33%)]\tLoss: 0.356241\n",
            "Train Epoch: 2 [20480/60000 (34%)]\tLoss: 0.466442\n",
            "Train Epoch: 2 [21120/60000 (35%)]\tLoss: 0.628297\n",
            "Train Epoch: 2 [21760/60000 (36%)]\tLoss: 0.720903\n",
            "Train Epoch: 2 [22400/60000 (37%)]\tLoss: 0.438740\n",
            "Train Epoch: 2 [23040/60000 (38%)]\tLoss: 0.341560\n",
            "Train Epoch: 2 [23680/60000 (39%)]\tLoss: 0.346965\n",
            "Train Epoch: 2 [24320/60000 (41%)]\tLoss: 0.342674\n",
            "Train Epoch: 2 [24960/60000 (42%)]\tLoss: 0.271385\n",
            "Train Epoch: 2 [25600/60000 (43%)]\tLoss: 0.559205\n",
            "Train Epoch: 2 [26240/60000 (44%)]\tLoss: 0.388992\n",
            "Train Epoch: 2 [26880/60000 (45%)]\tLoss: 0.371283\n",
            "Train Epoch: 2 [27520/60000 (46%)]\tLoss: 0.312906\n",
            "Train Epoch: 2 [28160/60000 (47%)]\tLoss: 0.254031\n",
            "Train Epoch: 2 [28800/60000 (48%)]\tLoss: 0.453671\n",
            "Train Epoch: 2 [29440/60000 (49%)]\tLoss: 0.477839\n",
            "Train Epoch: 2 [30080/60000 (50%)]\tLoss: 0.510611\n",
            "Train Epoch: 2 [30720/60000 (51%)]\tLoss: 0.210425\n",
            "Train Epoch: 2 [31360/60000 (52%)]\tLoss: 0.278269\n",
            "Train Epoch: 2 [32000/60000 (53%)]\tLoss: 0.289806\n",
            "Train Epoch: 2 [32640/60000 (54%)]\tLoss: 0.265086\n",
            "Train Epoch: 2 [33280/60000 (55%)]\tLoss: 0.338720\n",
            "Train Epoch: 2 [33920/60000 (57%)]\tLoss: 0.440354\n",
            "Train Epoch: 2 [34560/60000 (58%)]\tLoss: 0.411433\n",
            "Train Epoch: 2 [35200/60000 (59%)]\tLoss: 0.371731\n",
            "Train Epoch: 2 [35840/60000 (60%)]\tLoss: 0.389168\n",
            "Train Epoch: 2 [36480/60000 (61%)]\tLoss: 0.313306\n",
            "Train Epoch: 2 [37120/60000 (62%)]\tLoss: 0.331663\n",
            "Train Epoch: 2 [37760/60000 (63%)]\tLoss: 0.349478\n",
            "Train Epoch: 2 [38400/60000 (64%)]\tLoss: 0.382726\n",
            "Train Epoch: 2 [39040/60000 (65%)]\tLoss: 0.460725\n",
            "Train Epoch: 2 [39680/60000 (66%)]\tLoss: 0.272229\n",
            "Train Epoch: 2 [40320/60000 (67%)]\tLoss: 0.582347\n",
            "Train Epoch: 2 [40960/60000 (68%)]\tLoss: 0.388264\n",
            "Train Epoch: 2 [41600/60000 (69%)]\tLoss: 0.347908\n",
            "Train Epoch: 2 [42240/60000 (70%)]\tLoss: 0.405665\n",
            "Train Epoch: 2 [42880/60000 (71%)]\tLoss: 0.475147\n",
            "Train Epoch: 2 [43520/60000 (72%)]\tLoss: 0.253811\n",
            "Train Epoch: 2 [44160/60000 (74%)]\tLoss: 0.201455\n",
            "Train Epoch: 2 [44800/60000 (75%)]\tLoss: 0.239335\n",
            "Train Epoch: 2 [45440/60000 (76%)]\tLoss: 0.341417\n",
            "Train Epoch: 2 [46080/60000 (77%)]\tLoss: 0.166734\n",
            "Train Epoch: 2 [46720/60000 (78%)]\tLoss: 0.341739\n",
            "Train Epoch: 2 [47360/60000 (79%)]\tLoss: 0.403132\n",
            "Train Epoch: 2 [48000/60000 (80%)]\tLoss: 0.221008\n",
            "Train Epoch: 2 [48640/60000 (81%)]\tLoss: 0.286210\n",
            "Train Epoch: 2 [49280/60000 (82%)]\tLoss: 0.390932\n",
            "Train Epoch: 2 [49920/60000 (83%)]\tLoss: 0.220896\n",
            "Train Epoch: 2 [50560/60000 (84%)]\tLoss: 0.546463\n",
            "Train Epoch: 2 [51200/60000 (85%)]\tLoss: 0.427886\n",
            "Train Epoch: 2 [51840/60000 (86%)]\tLoss: 0.271098\n",
            "Train Epoch: 2 [52480/60000 (87%)]\tLoss: 0.403090\n",
            "Train Epoch: 2 [53120/60000 (88%)]\tLoss: 0.358943\n",
            "Train Epoch: 2 [53760/60000 (90%)]\tLoss: 0.242392\n",
            "Train Epoch: 2 [54400/60000 (91%)]\tLoss: 0.348301\n",
            "Train Epoch: 2 [55040/60000 (92%)]\tLoss: 0.578424\n",
            "Train Epoch: 2 [55680/60000 (93%)]\tLoss: 0.526170\n",
            "Train Epoch: 2 [56320/60000 (94%)]\tLoss: 0.388309\n",
            "Train Epoch: 2 [56960/60000 (95%)]\tLoss: 0.241845\n",
            "Train Epoch: 2 [57600/60000 (96%)]\tLoss: 0.281699\n",
            "Train Epoch: 2 [58240/60000 (97%)]\tLoss: 0.532590\n",
            "Train Epoch: 2 [58880/60000 (98%)]\tLoss: 0.303670\n",
            "Train Epoch: 2 [59520/60000 (99%)]\tLoss: 0.365440\n",
            "Train Epoch: 3 [0/60000 (0%)]\tLoss: 0.161115\n",
            "Train Epoch: 3 [640/60000 (1%)]\tLoss: 0.298533\n",
            "Train Epoch: 3 [1280/60000 (2%)]\tLoss: 0.204520\n",
            "Train Epoch: 3 [1920/60000 (3%)]\tLoss: 0.511342\n",
            "Train Epoch: 3 [2560/60000 (4%)]\tLoss: 0.285586\n",
            "Train Epoch: 3 [3200/60000 (5%)]\tLoss: 0.460314\n",
            "Train Epoch: 3 [3840/60000 (6%)]\tLoss: 0.211364\n",
            "Train Epoch: 3 [4480/60000 (7%)]\tLoss: 0.411754\n",
            "Train Epoch: 3 [5120/60000 (9%)]\tLoss: 0.281184\n",
            "Train Epoch: 3 [5760/60000 (10%)]\tLoss: 0.368259\n",
            "Train Epoch: 3 [6400/60000 (11%)]\tLoss: 0.455454\n",
            "Train Epoch: 3 [7040/60000 (12%)]\tLoss: 0.356839\n",
            "Train Epoch: 3 [7680/60000 (13%)]\tLoss: 0.401804\n",
            "Train Epoch: 3 [8320/60000 (14%)]\tLoss: 0.552772\n",
            "Train Epoch: 3 [8960/60000 (15%)]\tLoss: 0.367532\n",
            "Train Epoch: 3 [9600/60000 (16%)]\tLoss: 0.368157\n",
            "Train Epoch: 3 [10240/60000 (17%)]\tLoss: 0.350066\n",
            "Train Epoch: 3 [10880/60000 (18%)]\tLoss: 0.265478\n",
            "Train Epoch: 3 [11520/60000 (19%)]\tLoss: 0.309805\n",
            "Train Epoch: 3 [12160/60000 (20%)]\tLoss: 0.389571\n",
            "Train Epoch: 3 [12800/60000 (21%)]\tLoss: 0.276569\n",
            "Train Epoch: 3 [13440/60000 (22%)]\tLoss: 0.290337\n",
            "Train Epoch: 3 [14080/60000 (23%)]\tLoss: 0.301553\n",
            "Train Epoch: 3 [14720/60000 (25%)]\tLoss: 0.238754\n",
            "Train Epoch: 3 [15360/60000 (26%)]\tLoss: 0.420131\n",
            "Train Epoch: 3 [16000/60000 (27%)]\tLoss: 0.307433\n",
            "Train Epoch: 3 [16640/60000 (28%)]\tLoss: 0.274308\n",
            "Train Epoch: 3 [17280/60000 (29%)]\tLoss: 0.384129\n",
            "Train Epoch: 3 [17920/60000 (30%)]\tLoss: 0.357478\n",
            "Train Epoch: 3 [18560/60000 (31%)]\tLoss: 0.191573\n",
            "Train Epoch: 3 [19200/60000 (32%)]\tLoss: 0.316288\n",
            "Train Epoch: 3 [19840/60000 (33%)]\tLoss: 0.348521\n",
            "Train Epoch: 3 [20480/60000 (34%)]\tLoss: 0.184280\n",
            "Train Epoch: 3 [21120/60000 (35%)]\tLoss: 0.492528\n",
            "Train Epoch: 3 [21760/60000 (36%)]\tLoss: 0.219678\n",
            "Train Epoch: 3 [22400/60000 (37%)]\tLoss: 0.258557\n",
            "Train Epoch: 3 [23040/60000 (38%)]\tLoss: 0.243175\n",
            "Train Epoch: 3 [23680/60000 (39%)]\tLoss: 0.138495\n",
            "Train Epoch: 3 [24320/60000 (41%)]\tLoss: 0.164754\n",
            "Train Epoch: 3 [24960/60000 (42%)]\tLoss: 0.397379\n",
            "Train Epoch: 3 [25600/60000 (43%)]\tLoss: 0.131545\n",
            "Train Epoch: 3 [26240/60000 (44%)]\tLoss: 0.197438\n",
            "Train Epoch: 3 [26880/60000 (45%)]\tLoss: 0.255244\n",
            "Train Epoch: 3 [27520/60000 (46%)]\tLoss: 0.404100\n",
            "Train Epoch: 3 [28160/60000 (47%)]\tLoss: 0.228972\n",
            "Train Epoch: 3 [28800/60000 (48%)]\tLoss: 0.303939\n",
            "Train Epoch: 3 [29440/60000 (49%)]\tLoss: 0.250282\n",
            "Train Epoch: 3 [30080/60000 (50%)]\tLoss: 0.559390\n",
            "Train Epoch: 3 [30720/60000 (51%)]\tLoss: 0.270512\n",
            "Train Epoch: 3 [31360/60000 (52%)]\tLoss: 0.387839\n",
            "Train Epoch: 3 [32000/60000 (53%)]\tLoss: 0.328389\n",
            "Train Epoch: 3 [32640/60000 (54%)]\tLoss: 0.403433\n",
            "Train Epoch: 3 [33280/60000 (55%)]\tLoss: 0.413096\n",
            "Train Epoch: 3 [33920/60000 (57%)]\tLoss: 0.473745\n",
            "Train Epoch: 3 [34560/60000 (58%)]\tLoss: 0.253574\n",
            "Train Epoch: 3 [35200/60000 (59%)]\tLoss: 0.120030\n",
            "Train Epoch: 3 [35840/60000 (60%)]\tLoss: 0.206665\n",
            "Train Epoch: 3 [36480/60000 (61%)]\tLoss: 0.146467\n",
            "Train Epoch: 3 [37120/60000 (62%)]\tLoss: 0.338270\n",
            "Train Epoch: 3 [37760/60000 (63%)]\tLoss: 0.269403\n",
            "Train Epoch: 3 [38400/60000 (64%)]\tLoss: 0.188289\n",
            "Train Epoch: 3 [39040/60000 (65%)]\tLoss: 0.237357\n",
            "Train Epoch: 3 [39680/60000 (66%)]\tLoss: 0.280921\n",
            "Train Epoch: 3 [40320/60000 (67%)]\tLoss: 0.159263\n",
            "Train Epoch: 3 [40960/60000 (68%)]\tLoss: 0.261274\n",
            "Train Epoch: 3 [41600/60000 (69%)]\tLoss: 0.256065\n",
            "Train Epoch: 3 [42240/60000 (70%)]\tLoss: 0.261873\n",
            "Train Epoch: 3 [42880/60000 (71%)]\tLoss: 0.272003\n",
            "Train Epoch: 3 [43520/60000 (72%)]\tLoss: 0.349505\n",
            "Train Epoch: 3 [44160/60000 (74%)]\tLoss: 0.315132\n",
            "Train Epoch: 3 [44800/60000 (75%)]\tLoss: 0.347166\n",
            "Train Epoch: 3 [45440/60000 (76%)]\tLoss: 0.272781\n",
            "Train Epoch: 3 [46080/60000 (77%)]\tLoss: 0.288924\n",
            "Train Epoch: 3 [46720/60000 (78%)]\tLoss: 0.329187\n",
            "Train Epoch: 3 [47360/60000 (79%)]\tLoss: 0.195530\n",
            "Train Epoch: 3 [48000/60000 (80%)]\tLoss: 0.259650\n",
            "Train Epoch: 3 [48640/60000 (81%)]\tLoss: 0.172875\n",
            "Train Epoch: 3 [49280/60000 (82%)]\tLoss: 0.421050\n",
            "Train Epoch: 3 [49920/60000 (83%)]\tLoss: 0.330979\n",
            "Train Epoch: 3 [50560/60000 (84%)]\tLoss: 0.160907\n",
            "Train Epoch: 3 [51200/60000 (85%)]\tLoss: 0.214443\n",
            "Train Epoch: 3 [51840/60000 (86%)]\tLoss: 0.366608\n",
            "Train Epoch: 3 [52480/60000 (87%)]\tLoss: 0.209231\n",
            "Train Epoch: 3 [53120/60000 (88%)]\tLoss: 0.168661\n",
            "Train Epoch: 3 [53760/60000 (90%)]\tLoss: 0.599223\n",
            "Train Epoch: 3 [54400/60000 (91%)]\tLoss: 0.254386\n",
            "Train Epoch: 3 [55040/60000 (92%)]\tLoss: 0.235379\n",
            "Train Epoch: 3 [55680/60000 (93%)]\tLoss: 0.511192\n",
            "Train Epoch: 3 [56320/60000 (94%)]\tLoss: 0.288616\n",
            "Train Epoch: 3 [56960/60000 (95%)]\tLoss: 0.405975\n",
            "Train Epoch: 3 [57600/60000 (96%)]\tLoss: 0.298077\n",
            "Train Epoch: 3 [58240/60000 (97%)]\tLoss: 0.299765\n",
            "Train Epoch: 3 [58880/60000 (98%)]\tLoss: 0.333693\n",
            "Train Epoch: 3 [59520/60000 (99%)]\tLoss: 0.185359\n"
          ],
          "name": "stdout"
        }
      ]
    },
    {
      "cell_type": "code",
      "metadata": {
        "id": "8aT16POo8KmZ",
        "colab_type": "code",
        "outputId": "98015b50-12a2-4a5f-90b0-bdf02846d6c8",
        "colab": {
          "base_uri": "https://localhost:8080/",
          "height": 568
        }
      },
      "source": [
        "# 比较模型输出\n",
        "\n",
        "with torch.no_grad():\n",
        "  output = network(example_data)\n",
        "  \n",
        "fig = plt.figure()\n",
        "for i in range(6):\n",
        "  plt.subplot(2,3,i+1)\n",
        "  plt.tight_layout()\n",
        "  plt.imshow(example_data[i][0], cmap='gray', interpolation='none')\n",
        "  plt.title(\"Prediction: {}\".format(\n",
        "    output.data.max(1, keepdim=True)[1][i].item()))\n",
        "  plt.xticks([])\n",
        "  plt.yticks([])\n",
        "fig"
      ],
      "execution_count": 12,
      "outputs": [
        {
          "output_type": "stream",
          "text": [
            "/usr/local/lib/python3.6/dist-packages/ipykernel_launcher.py:22: UserWarning: Implicit dimension choice for log_softmax has been deprecated. Change the call to include dim=X as an argument.\n"
          ],
          "name": "stderr"
        },
        {
          "output_type": "execute_result",
          "data": {
            "image/png": "[encoded data removed]",
            "text/plain": [
              "<Figure size 432x288 with 6 Axes>"
            ]
          },
          "metadata": {
            "tags": []
          },
          "execution_count": 12
        },
        {
          "output_type": "display_data",
          "data": {
            "image/png": "[encoded data removed]",
            "text/plain": [
              "<Figure size 432x288 with 6 Axes>"
            ]
          },
          "metadata": {
            "tags": []
          }
        }
      ]
    },
    {
      "cell_type": "code",
      "metadata": {
        "id": "6kc1HYWbGMNc",
        "colab_type": "code",
        "outputId": "04174650-5b55-4d22-a195-f777e7da851b",
        "colab": {
          "base_uri": "https://localhost:8080/",
          "height": 549
        }
      },
      "source": [
        "fig = plt.figure()\n",
        "plt.plot(train_counter, train_losses, color='blue')\n",
        "plt.legend(['Train Loss', 'Test Loss'], loc='upper right')\n",
        "plt.xlabel('number of training examples seen')\n",
        "plt.ylabel('negative log likelihood loss')\n",
        "fig"
      ],
      "execution_count": 13,
      "outputs": [
        {
          "output_type": "execute_result",
          "data": {
            "image/png": "[encoded data removed]",
            "text/plain": [
              "<Figure size 432x288 with 1 Axes>"
            ]
          },
          "metadata": {
            "tags": []
          },
          "execution_count": 13
        },
        {
          "output_type": "display_data",
          "data": {
            "image/png": "[encoded data removed]",
            "text/plain": [
              "<Figure size 432x288 with 1 Axes>"
            ]
          },
          "metadata": {
            "tags": []
          }
        }
      ]
    }
  ]
}