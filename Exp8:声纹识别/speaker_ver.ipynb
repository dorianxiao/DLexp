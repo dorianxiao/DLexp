{
  "nbformat": 4,
  "nbformat_minor": 0,
  "metadata": {
    "colab": {
      "name": "speaker_ver.ipynb",
      "version": "0.3.2",
      "provenance": [],
      "collapsed_sections": [],
      "include_colab_link": true
    },
    "kernelspec": {
      "name": "python3",
      "display_name": "Python 3"
    }
  },
  "cells": [
    {
      "cell_type": "markdown",
      "metadata": {
        "id": "view-in-github",
        "colab_type": "text"
      },
      "source": [
        "<a href=\"https://colab.research.google.com/github/dorianxiao/DLexp/blob/master/Exp8%3A%E5%A3%B0%E7%BA%B9%E8%AF%86%E5%88%AB/speaker_ver.ipynb\" target=\"_parent\"><img src=\"https://colab.research.google.com/assets/colab-badge.svg\" alt=\"Open In Colab\"/></a>"
      ]
    },
    {
      "cell_type": "code",
      "metadata": {
        "id": "SHZJ8WxtqOJh",
        "colab_type": "code",
        "colab": {}
      },
      "source": [
        "\n",
        "# 挂载到Google Drive\n",
        "\n",
        "from google.colab import drive\n",
        "drive.mount('/content/gdrive')"
      ],
      "execution_count": 0,
      "outputs": []
    },
    {
      "cell_type": "code",
      "metadata": {
        "id": "tzkksycXqtXU",
        "colab_type": "code",
        "colab": {}
      },
      "source": [
        "# 更改当前工作目录\n",
        "\n",
        "os.chdir(r'/content/gdrive/My Drive/mylab/Exp8')\n",
        "print(os.getcwd())"
      ],
      "execution_count": 0,
      "outputs": []
    },
    {
      "cell_type": "code",
      "metadata": {
        "id": "zZLIU_R4sEGM",
        "colab_type": "code",
        "colab": {}
      },
      "source": [
        "!mkdir dataSets"
      ],
      "execution_count": 0,
      "outputs": []
    },
    {
      "cell_type": "code",
      "metadata": {
        "id": "c4Z87f7YqyWc",
        "colab_type": "code",
        "colab": {}
      },
      "source": [
        "# 下载数据集\n",
        "!wget -P ./dataSets https://datashare.is.ed.ac.uk/download/DS_10283_2651.zip"
      ],
      "execution_count": 0,
      "outputs": []
    },
    {
      "cell_type": "code",
      "metadata": {
        "id": "v8bGyaXgrDmD",
        "colab_type": "code",
        "colab": {}
      },
      "source": [
        "!unzip ./dataSets/DS_10283_2651.zip"
      ],
      "execution_count": 0,
      "outputs": []
    },
    {
      "cell_type": "code",
      "metadata": {
        "id": "PzoI_7svr2UE",
        "colab_type": "code",
        "colab": {}
      },
      "source": [
        "# 预处理\n",
        "\n",
        "!python data_preprocess.py"
      ],
      "execution_count": 0,
      "outputs": []
    },
    {
      "cell_type": "code",
      "metadata": {
        "id": "Vn56cECUszCe",
        "colab_type": "code",
        "colab": {}
      },
      "source": [
        "# 模型训练\n",
        "\n",
        "!python main.py --train True --model_path ./model"
      ],
      "execution_count": 0,
      "outputs": []
    },
    {
      "cell_type": "code",
      "metadata": {
        "id": "pD-Q4F7QtiEN",
        "colab_type": "code",
        "colab": {}
      },
      "source": [
        "# 模型测试\n",
        "\n",
        "!python main.py --train False --model_path ./model"
      ],
      "execution_count": 0,
      "outputs": []
    }
  ]
}